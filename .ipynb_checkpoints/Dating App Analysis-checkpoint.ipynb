{
 "cells": [
  {
   "cell_type": "markdown",
   "metadata": {},
   "source": [
    "# Анализ приложения для знакомств\n",
    "\n",
    "Команда разработки приложения разработала новый алгоритм для поиска наиболее подходящих анкет. Для проверки работы алгоритма был проведен AБ-тест, в котором все пользователи были разделены на 2 группы (контрольную и тестовую). Пользователи в контрольной группе (группа 0) пользовались приложением со старым алгоритмом, а пользователи тестовой группы (группа 1) - с новым.\n",
    "\n",
    "**Правда ли, что новый алгоритм улучшил качество сервиса?**\n",
    "\n",
    "Давайте узнаем!"
   ]
  },
  {
   "cell_type": "markdown",
   "metadata": {
    "tags": []
   },
   "source": [
    "## Подключение к данным \n",
    "\n",
    "Подключение к данным будем осуществлять через API, которое предоставляет Яндекс Диск, для того, чтобы не занимать дополнительный объем памяти путем загрузки анализируемых данных локально"
   ]
  },
  {
   "cell_type": "code",
   "execution_count": 1,
   "metadata": {},
   "outputs": [],
   "source": [
    "# импорт необходимых для работы библиотек\n",
    "\n",
    "import requests\n",
    "import pandas as pd\n",
    "import numpy as np\n",
    "import seaborn as sns \n",
    "import matplotlib.pyplot as plt\n",
    "import pingouin as pg\n",
    "from scipy import stats\n",
    "from urllib import parse\n",
    "from statsmodels.graphics.mosaicplot import mosaic\n",
    "from statsmodels.stats.power import TTestIndPower, GofChisquarePower\n",
    "\n",
    "%matplotlib inline"
   ]
  },
  {
   "cell_type": "code",
   "execution_count": 2,
   "metadata": {},
   "outputs": [],
   "source": [
    "# параметры визуализации\n",
    "\n",
    "sns.set(\n",
    "    rc = {\n",
    "        'figure.figsize'  : (15, 7),\n",
    "        'axes.titlesize'  : 16,\n",
    "        'axes.labelsize'  : 14,\n",
    "        'xtick.labelsize' : 12,\n",
    "        'ytick.labelsize' : 12\n",
    "    }\n",
    ")"
   ]
  },
  {
   "cell_type": "code",
   "execution_count": 3,
   "metadata": {},
   "outputs": [],
   "source": [
    "# вспомогательная функция \n",
    "\n",
    "def calc_pooled_var (control_var: float, test_var: float, nobs1: int, nobs2: int) -> float:\n",
    "    \"\"\"\n",
    "    Функция возвращает общую дисперсию для расчета стандартизированного размера эффекта\n",
    "    при сравнении метрик t-критерием Стъюдента\n",
    "    \n",
    "    Параметры:\n",
    "    ---------\n",
    "    control_var:\n",
    "        Дисперсия данных в контрольной группе\n",
    "    test_var:\n",
    "        Дисперсия данных в тестовой группе\n",
    "    nobs1:\n",
    "        Размер контрольной группы\n",
    "    nobs2:\n",
    "        Размер тестовой группы \n",
    "    \n",
    "    Возвращаемое значение:\n",
    "    ----------------------\n",
    "        Общая дисперсия двух выборок\n",
    "    \"\"\"\n",
    "    return np.sqrt((((nobs1 - 1) * control_var) + ((nobs2 - 1) * test_var))/(nobs1 + nobs2 - 2))"
   ]
  },
  {
   "cell_type": "code",
   "execution_count": 4,
   "metadata": {},
   "outputs": [],
   "source": [
    "# формирование ссылки для подключения к данным через Яндекс Диск API\n",
    "\n",
    "base_url   = 'https://cloud-api.yandex.net/v1/disk/public/resources/download?'\n",
    "public_key = 'https://disk.yandex.ru/d/txn7q-CE2zSaPg'\n",
    "final_url  = base_url + parse.urlencode(dict(public_key=public_key))"
   ]
  },
  {
   "cell_type": "code",
   "execution_count": 5,
   "metadata": {},
   "outputs": [
    {
     "name": "stderr",
     "output_type": "stream",
     "text": [
      "/opt/tljh/user/lib/python3.7/site-packages/outdated/utils.py:18: OutdatedCacheFailedWarning: Failed to use cache while checking for outdated package.\n",
      "Set the environment variable OUTDATED_RAISE_EXCEPTION=1 for a full traceback.\n",
      "Set the environment variable OUTDATED_IGNORE=1 to disable these warnings.\n",
      "  **kwargs\n",
      "/opt/tljh/user/lib/python3.7/site-packages/outdated/utils.py:18: OutdatedPackageWarning: The package outdated is out of date. Your version is 0.2.1, the latest is 0.2.2.\n",
      "Set the environment variable OUTDATED_IGNORE=1 to disable these warnings.\n",
      "  **kwargs\n",
      "/opt/tljh/user/lib/python3.7/site-packages/outdated/utils.py:18: OutdatedPackageWarning: The package pingouin is out of date. Your version is 0.4.0, the latest is 0.5.3.\n",
      "Set the environment variable OUTDATED_IGNORE=1 to disable these warnings.\n",
      "  **kwargs\n"
     ]
    }
   ],
   "source": [
    "# получение ссылки на скачивание данных через Яндекс Диск API\n",
    "\n",
    "response = requests.get(final_url)\n",
    "load_url = response.json()['href']"
   ]
  },
  {
   "cell_type": "code",
   "execution_count": 6,
   "metadata": {},
   "outputs": [],
   "source": [
    "# скачивание данных\n",
    "\n",
    "data = pd.read_csv(load_url)"
   ]
  },
  {
   "cell_type": "markdown",
   "metadata": {},
   "source": [
    "## Предварительный анализ данных\n",
    "\n",
    "Перед основной работой с данными их необходимо предварительно посмотреть, чтобы сформировать первое представление о том, с каким вообще данными мы имеем дело, правильно ли они были собраны и нужно ли нам вообще в них что-то корректировать"
   ]
  },
  {
   "cell_type": "code",
   "execution_count": 7,
   "metadata": {},
   "outputs": [
    {
     "data": {
      "text/plain": [
       "(14514, 4)"
      ]
     },
     "execution_count": 7,
     "metadata": {},
     "output_type": "execute_result"
    }
   ],
   "source": [
    "# размер таблицы\n",
    "\n",
    "data.shape"
   ]
  },
  {
   "cell_type": "code",
   "execution_count": 8,
   "metadata": {},
   "outputs": [
    {
     "data": {
      "text/plain": [
       "user_id_1    0\n",
       "user_id_2    0\n",
       "group        0\n",
       "is_match     0\n",
       "dtype: int64"
      ]
     },
     "execution_count": 8,
     "metadata": {},
     "output_type": "execute_result"
    }
   ],
   "source": [
    "# количество NULL-значений \n",
    "\n",
    "data.isna().sum()"
   ]
  },
  {
   "cell_type": "code",
   "execution_count": 9,
   "metadata": {},
   "outputs": [
    {
     "data": {
      "text/plain": [
       "user_id_1    int64\n",
       "user_id_2    int64\n",
       "group        int64\n",
       "is_match     int64\n",
       "dtype: object"
      ]
     },
     "execution_count": 9,
     "metadata": {},
     "output_type": "execute_result"
    }
   ],
   "source": [
    "# типы данных\n",
    "\n",
    "data.dtypes"
   ]
  },
  {
   "cell_type": "code",
   "execution_count": 10,
   "metadata": {},
   "outputs": [
    {
     "data": {
      "text/plain": [
       "user_id_1    1000\n",
       "user_id_2    1000\n",
       "group           2\n",
       "is_match        2\n",
       "dtype: int64"
      ]
     },
     "execution_count": 10,
     "metadata": {},
     "output_type": "execute_result"
    }
   ],
   "source": [
    "# количество уникальных значений \n",
    "\n",
    "data.nunique()"
   ]
  },
  {
   "cell_type": "markdown",
   "metadata": {},
   "source": [
    "**Посмотрев на данные можно сделать следующие выводы.**\n",
    "\n",
    "- Не было ошибок в алгоритме, который занимается их сбором, так как у нас нет в данных пропущенных значений (null-значений).\n",
    "\n",
    "- Наша измеряемая метрика (is_match) является бинарной\n",
    "\n",
    "- Размер групп, отобранных для эксперимента, составил **500 человек**"
   ]
  },
  {
   "cell_type": "markdown",
   "metadata": {},
   "source": [
    "## Интерпретация результатов \n",
    "\n",
    "#### Начнем нашу интерпретацию с определения целевой метрики, которую мы проверяем.\n",
    "\n",
    "Для того, чтобы интерпретировать результаты, нужно понять, чем можно оценить улучшение качества работы сервиса. Соответственно, нужно понимать какое улучшение мы будем вводить и на какую метрику оно **должно/может (!)**  (потенциально) повлиять. \n",
    "\n",
    "В данном случае наше нововведение - это алгоритм для поиска наиболее подходящих анкет - **поиск тех анкет, которые отвечают взаимностью (взаимные лайки)**. Выделим для себя несколько потенциальных метрик, на которые потенциально может влиять новый алгоритм \n",
    "\n",
    "- Общее количество взаимных лайков по продукту\n",
    "- Доля взаимных лайков от общего количества лайков на 1 пользователя\n",
    "\n",
    "### 1. Общее количество взаимных лайков по продукту\n",
    "\n",
    "Начнем наш анализ с проверки того, как введение нового алгоритма могло повлиять на общее количество взаимных лайков по продукту. Для этого поставим вопрос: **можно ли с помощью нового алгоритма увеличить общее количество взаимных лайков?**\n",
    "\n",
    "Сформируем таблицу сопряженности для 2-х категориальных переменных (group, is_match) с 2-мя градациями (0, 1) и рассчитаем критерий Хи-квадрат, чтобы проверить есть ли изменение в количестве взаимных лайков между группами после введения нового алгоритма (предварительно сделаем визуализацию)"
   ]
  },
  {
   "cell_type": "code",
   "execution_count": 11,
   "metadata": {},
   "outputs": [],
   "source": [
    "# формирование таблицы сопряженности \n",
    "\n",
    "matches_by_groups = pd \\\n",
    "    .crosstab(index = data.group, columns = data.is_match) \\\n",
    "    .rename(columns={0:'not_match', 1:'match'}) "
   ]
  },
  {
   "cell_type": "code",
   "execution_count": 12,
   "metadata": {},
   "outputs": [
    {
     "data": {
      "image/png": "[encoded data removed]",
      "text/plain": [
       "<Figure size 1080x504 with 1 Axes>"
      ]
     },
     "metadata": {},
     "output_type": "display_data"
    }
   ],
   "source": [
    "# визуализация распределения\n",
    "\n",
    "matches_by_groups.plot(kind = 'bar', stacked = True, color = ['coral', 'mediumpurple'])\n",
    "\n",
    "plt.title('Распределение лайков для пользователей в зависимости от группы\\n')\n",
    "plt.xlabel('Группа')\n",
    "plt.ylabel('Количество лайков')\n",
    "plt.show()"
   ]
  },
  {
   "cell_type": "markdown",
   "metadata": {},
   "source": [
    "В данном случае видно невооруженным глазом, что в группе с новым алгоритмом, **количество взаимных лайков** выросло в сравнении с контрольной группой, которая использует старый алгоритм. Однако, это может быть связано с тем, что у нас в целом выросло **количество лайков** и относительный показатель количества взаимных лайков мог остаться прежним. Проведем анализ с помощью X^2-критерия, убедившись перед этим, что у нас соблюдаются все условия для его проведения, и проверим гипотезу о том, что новый алгоритм увеличивает количество взаимных лайков по продукту\n",
    "\n",
    "- Все наблюдения независимы + \n",
    "- Минимальное количество наблюдений в каждой ячейке больше 5 +"
   ]
  },
  {
   "cell_type": "code",
   "execution_count": 13,
   "metadata": {},
   "outputs": [
    {
     "name": "stdout",
     "output_type": "stream",
     "text": [
      "Полученная статистика: 618.6889141576198\n",
      "Полученный p_value: 1.4418299163662586e-136\n"
     ]
    }
   ],
   "source": [
    "# проведение X^2-теста \n",
    "\n",
    "stat, p, dof, freqs = stats.chi2_contingency(matches_by_groups)\n",
    "\n",
    "print('Полученная статистика: {}'.format(stat))\n",
    "print('Полученный p_value: {}'.format(p))"
   ]
  },
  {
   "cell_type": "code",
   "execution_count": 14,
   "metadata": {},
   "outputs": [
    {
     "data": {
      "text/html": [
       "<div>\n",
       "<style scoped>\n",
       "    .dataframe tbody tr th:only-of-type {\n",
       "        vertical-align: middle;\n",
       "    }\n",
       "\n",
       "    .dataframe tbody tr th {\n",
       "        vertical-align: top;\n",
       "    }\n",
       "\n",
       "    .dataframe thead th {\n",
       "        text-align: right;\n",
       "    }\n",
       "</style>\n",
       "<table border=\"1\" class=\"dataframe\">\n",
       "  <thead>\n",
       "    <tr style=\"text-align: right;\">\n",
       "      <th></th>\n",
       "      <th>not_match</th>\n",
       "      <th>match</th>\n",
       "    </tr>\n",
       "  </thead>\n",
       "  <tbody>\n",
       "    <tr>\n",
       "      <th>0</th>\n",
       "      <td>3193.015847</td>\n",
       "      <td>1598.984153</td>\n",
       "    </tr>\n",
       "    <tr>\n",
       "      <th>1</th>\n",
       "      <td>6477.984153</td>\n",
       "      <td>3244.015847</td>\n",
       "    </tr>\n",
       "  </tbody>\n",
       "</table>\n",
       "</div>"
      ],
      "text/plain": [
       "     not_match        match\n",
       "0  3193.015847  1598.984153\n",
       "1  6477.984153  3244.015847"
      ]
     },
     "execution_count": 14,
     "metadata": {},
     "output_type": "execute_result"
    }
   ],
   "source": [
    "# ожидаемые значения, при условии отсутствия влияния нового алгоритма\n",
    "\n",
    "pd.DataFrame(freqs, columns = ['not_match', 'match'])"
   ]
  },
  {
   "cell_type": "code",
   "execution_count": 15,
   "metadata": {},
   "outputs": [
    {
     "data": {
      "text/html": [
       "<div>\n",
       "<style scoped>\n",
       "    .dataframe tbody tr th:only-of-type {\n",
       "        vertical-align: middle;\n",
       "    }\n",
       "\n",
       "    .dataframe tbody tr th {\n",
       "        vertical-align: top;\n",
       "    }\n",
       "\n",
       "    .dataframe thead th {\n",
       "        text-align: right;\n",
       "    }\n",
       "</style>\n",
       "<table border=\"1\" class=\"dataframe\">\n",
       "  <thead>\n",
       "    <tr style=\"text-align: right;\">\n",
       "      <th>is_match</th>\n",
       "      <th>not_match</th>\n",
       "      <th>match</th>\n",
       "    </tr>\n",
       "    <tr>\n",
       "      <th>group</th>\n",
       "      <th></th>\n",
       "      <th></th>\n",
       "    </tr>\n",
       "  </thead>\n",
       "  <tbody>\n",
       "    <tr>\n",
       "      <th>0</th>\n",
       "      <td>3858</td>\n",
       "      <td>934</td>\n",
       "    </tr>\n",
       "    <tr>\n",
       "      <th>1</th>\n",
       "      <td>5813</td>\n",
       "      <td>3909</td>\n",
       "    </tr>\n",
       "  </tbody>\n",
       "</table>\n",
       "</div>"
      ],
      "text/plain": [
       "is_match  not_match  match\n",
       "group                     \n",
       "0              3858    934\n",
       "1              5813   3909"
      ]
     },
     "execution_count": 15,
     "metadata": {},
     "output_type": "execute_result"
    }
   ],
   "source": [
    "# наблюдаемые значения\n",
    "\n",
    "matches_by_groups"
   ]
  },
  {
   "cell_type": "markdown",
   "metadata": {},
   "source": [
    "Видим, что наше p_value сильно меньше заявленного 0.05, из чего можем сделать вывод, что распределение по группам действительно влияет на количество лайков. Но пока что это нам не говорит о том, какие именно показатели сильно отличаются между собой. Чтобы это узнать **нужно провести анализ остатков (хотя бы визуальный)**"
   ]
  },
  {
   "cell_type": "code",
   "execution_count": 16,
   "metadata": {},
   "outputs": [
    {
     "data": {
      "image/png": "[encoded data removed]",
      "text/plain": [
       "<Figure size 1080x432 with 6 Axes>"
      ]
     },
     "metadata": {},
     "output_type": "display_data"
    }
   ],
   "source": [
    "# визуализация полученной таблицы сопряженности\n",
    "\n",
    "figure, axes = plt.subplots(nrows = 1, ncols = 2, figsize = (15, 6))\n",
    "tables       = [matches_by_groups, pd.DataFrame(freqs, columns = ['not_match', 'match'])]\n",
    "titles       = ['Наблюдаемое распределение', 'Ожидаемое распределение']\n",
    "\n",
    "for ax, table, title in zip(axes.flatten(), tables, titles):\n",
    "    mosaic(table.stack(), ax = ax, title = title)"
   ]
  },
  {
   "cell_type": "markdown",
   "metadata": {},
   "source": [
    "После визуализации стало видно, что на самом деле, количество взаимных лайков в тестовой группе (с новым алгоритмом) имеет более высокое значение, нежели при распределении, в котором фактор группы никак не оказывает влияние на распределение частот лайков.\n",
    "\n",
    "Теперь нужно проверить, насколько сильно мы можем доверять результатам статистической проверки. Для этого необходимо рассчитать размер эффекта - степень отклонения полученных наблюдений от наблюдений, в которых размер эффекта равен нулю. Это позволит нам сравнить полученный в результате внедрения нового алгоритма эффект с наименьшим истинным эффектом, который может быть обнаружен при заданных уровне значимости и размере выборки с вероятностью 80%. То есть по факту, **мы проверяем насколько большая у нас вероятность совершить ошибку II рода при используемых параметрах эксперимента**\n",
    "\n",
    "**Важно понимать, что минимальный детектируемый эффект определяется перед проведением AB-тестирования, на этапе расчета длительности проведения эксперимента (длительность зависит от размера выборки, который необходимо собрать, чтобы с большой вероятностью правильно задетектировать изменения там, где они действительно присутствуют). Однако, так как мы имеем уже результаты AB-тестирования, то мы рассчитаем его уже по факту, предполагая, что именно такой MDE хотели обнаружить исследователи при определенных значениях мощности теста, уровня значимости и размера выборки.**"
   ]
  },
  {
   "cell_type": "markdown",
   "metadata": {},
   "source": [
    "### 1.1 Effect Size\n",
    "\n",
    "Рассчитаем размер эффекта для таблицы сопряженности 2 X 2. Это позволит нам понять, насколько значительная степень отклонения наблюдаемых значений от значений, размер эффекта который равняется 0. Для такой таблицы сопряженности рассчитаем Phi. Расчет проведем по формуле, взятой отсюда: # https://www.codecamp.ru/blog/effect-size-chi-square/"
   ]
  },
  {
   "cell_type": "code",
   "execution_count": 17,
   "metadata": {},
   "outputs": [
    {
     "name": "stdout",
     "output_type": "stream",
     "text": [
      "Размер эффекта: 0.79\n"
     ]
    }
   ],
   "source": [
    "# расчет размера эффекта для таблицы сопряженности 2 X 2 \n",
    "\n",
    "effect_size = np.sqrt(stat / 1000)\n",
    "print('Размер эффекта: {}'.format(round(effect_size, 2)))"
   ]
  },
  {
   "cell_type": "markdown",
   "metadata": {},
   "source": [
    "### 1.2 MDE\n",
    "\n",
    "Данный размер эффекта - это значительный эффект. Можем сказать, что степень отклонения от значений, где размер эффекта равен 0, внушительная. Однако, теперь нужно сравнить стандартизированный размер эффекта, полученный в результате эксперимента с MDE для критерия X^2 с используемыми параметрами. **Это позволит нам сказать, можем ли мы доверять полученным результатам проверки X^2 критерием или вероятность ошибки II рода слишком высока.** "
   ]
  },
  {
   "cell_type": "code",
   "execution_count": 18,
   "metadata": {},
   "outputs": [
    {
     "name": "stdout",
     "output_type": "stream",
     "text": [
      "Минимальный детектируемый эффект для данных параметров: 0.15\n"
     ]
    }
   ],
   "source": [
    "power_analysis = GofChisquarePower()\n",
    "mde    = power_analysis.solve_power(nobs=500, alpha=0.05, power=0.8, n_bins=4)\n",
    "print('Минимальный детектируемый эффект для данных параметров: {}'.format(round(mde, 2)))"
   ]
  },
  {
   "cell_type": "markdown",
   "metadata": {},
   "source": [
    "Видно, что полученный размер эффекта между метриками в контрольной и тестовой группах превышает минимальный детектируемый эффект для используемых параметров. Следовательно, при интерпретации полученных результатов, можем быть уверены в их достоверности\n",
    "\n",
    "### 2. Доля взаимных лайков от общего числа на пользователя\n",
    "\n",
    "Теперь необходимо посмотреть, как влияет введение нового алгоритма на долю взаимных лайков от общего количества лайков на 1 пользователя."
   ]
  },
  {
   "cell_type": "code",
   "execution_count": 19,
   "metadata": {},
   "outputs": [],
   "source": [
    "control = data.loc[data.group == 0]\n",
    "test    = data.loc[data.group == 1]"
   ]
  },
  {
   "cell_type": "markdown",
   "metadata": {},
   "source": [
    "Перед проведением сравнения 2-х средних значениях критерием Стъюдента, необходимо рассчитать минимальный детектируемый эффект - наименьший истинный эффект, который может быть определен критерием Стъюдента с определенной вероятностью при определенном уровне значимости. В нашем случае у нас есть следующие параметры:\n",
    "\n",
    "- Уровень значимости\n",
    "- Мощность теста\n",
    "- Размер выборки\n",
    "\n",
    "### 2.1 MDE "
   ]
  },
  {
   "cell_type": "code",
   "execution_count": 20,
   "metadata": {},
   "outputs": [],
   "source": [
    "# используемые параметры \n",
    "\n",
    "nobs1 = control.user_id_1.nunique()\n",
    "nobs2 = test.user_id_1.nunique()\n",
    "ratio = nobs2 / nobs1"
   ]
  },
  {
   "cell_type": "code",
   "execution_count": 21,
   "metadata": {},
   "outputs": [
    {
     "name": "stdout",
     "output_type": "stream",
     "text": [
      "Минимальный детектируемый эффект для данных параметров: 0.18\n"
     ]
    }
   ],
   "source": [
    "# расчет mde\n",
    "\n",
    "power_analysis = TTestIndPower()\n",
    "mde            = power_analysis.solve_power(nobs1=nobs1, alpha=0.05, power=0.8)       \n",
    "\n",
    "print('Минимальный детектируемый эффект для данных параметров: {}'.format(round(mde, 2)))"
   ]
  },
  {
   "cell_type": "markdown",
   "metadata": {},
   "source": [
    "Можем сказать, что данный размер эффекта является довольно-таки слабым по шкале интерпретации Коэна. Однако, даже незначительные размеры могут оказывать огромное влияние, особенно когда-речь заходит о крупных абсолютных величинах.\n",
    "\n",
    "\n",
    "<img src = 'https://www.researchgate.net/publication/344626794/figure/tbl2/AS:946094485815298@1602577911175/Cohens-Effect-Size-Ranges-and-Their-Meanings.png'>\n"
   ]
  },
  {
   "cell_type": "markdown",
   "metadata": {},
   "source": [
    "Далее отберем выборки из общих данных. \n",
    "\n",
    "У нас в данных присутствуют строки для 2-х пользователей и результат взаимности между ними. Однако, мы не знаем о том, присутствует ли у нас та же \"взаимная\" пара, но уже в виде не **\"X - Y\", a \"Z - X\"** или **Y - X**. Мы должны учитывать, что один и тот же пользователь может быть в разных столбцах, так как взаимный лайк для **\"X\"** в паре **\"X - Y\"** и в паре **\"Z - X\"** или **Y - X** - это разные взаимные лайки. Здесь мы обходим зависимость между наблюдениями, из-за неучёта которой у нас может завышаться вероятность ошибки I рода.\n",
    "\n",
    "- X - рассматриваемый пользователь\n",
    "- Y - анкета, которую он лайкнул \n",
    "- Z - другая анкета, которую он лайкнул"
   ]
  },
  {
   "cell_type": "code",
   "execution_count": 22,
   "metadata": {},
   "outputs": [],
   "source": [
    "# отбор контрольной группы (старый алгоритм)\n",
    "\n",
    "control_1 = control\n",
    "control_2 = control[['user_id_2', 'user_id_1', 'group', 'is_match']].rename(columns={'user_id_2':'user_id_1', 'user_id_1':'user_id_2'})\n",
    "control = pd.concat([control, control_2]).drop_duplicates()"
   ]
  },
  {
   "cell_type": "code",
   "execution_count": 23,
   "metadata": {},
   "outputs": [],
   "source": [
    "#отбор тестовой группы (новый алгоритм)\n",
    "\n",
    "test_1 = test\n",
    "test_2 = test[['user_id_2', 'user_id_1', 'group', 'is_match']].rename(columns={'user_id_2':'user_id_1', 'user_id_1':'user_id_2'})\n",
    "test   = pd.concat([test_1, test_2]).drop_duplicates()"
   ]
  },
  {
   "cell_type": "markdown",
   "metadata": {},
   "source": [
    "У нас в данных есть пользовательские пары, которые взаимодействовали друг с другом несколько раз (пример: группа 1, пользователь 79 - пользователь 890) - такие случаи исключать не будем, так как в одном случае не было match, а в другом - был."
   ]
  },
  {
   "cell_type": "code",
   "execution_count": 24,
   "metadata": {},
   "outputs": [],
   "source": [
    "# контрольная группа\n",
    "\n",
    "control_sample = control \\\n",
    "    .groupby('user_id_1', as_index=False) \\\n",
    "    .agg({'is_match':'mean'}) \\\n",
    "    .rename(columns={'is_match':'match_rate'}) \\\n",
    "    .match_rate"
   ]
  },
  {
   "cell_type": "code",
   "execution_count": 25,
   "metadata": {},
   "outputs": [],
   "source": [
    "# тестовая группа \n",
    "\n",
    "test_sample = test \\\n",
    "    .groupby('user_id_1', as_index=False) \\\n",
    "    .agg({'is_match':'mean'}) \\\n",
    "    .rename(columns={'is_match':'match_rate'}) \\\n",
    "    .match_rate"
   ]
  },
  {
   "cell_type": "code",
   "execution_count": 26,
   "metadata": {},
   "outputs": [
    {
     "data": {
      "text/plain": [
       "{'control_mean': 0.19403391742626733,\n",
       " 'control_std': 0.09079829481441615,\n",
       " 'test_mean': 0.40323312715320314,\n",
       " 'test_std': 0.08138409314018187}"
      ]
     },
     "execution_count": 26,
     "metadata": {},
     "output_type": "execute_result"
    }
   ],
   "source": [
    "# среднее значение и стандартное отклонение доли взаимных лайков в общем количестве лайков\n",
    "\n",
    "statistics = {\n",
    "    'control_mean' : control_sample.mean(),\n",
    "    'control_std'  : control_sample.std(),\n",
    "    'test_mean'    : test_sample.mean(),\n",
    "    'test_std'     : test_sample.std(),\n",
    "}\n",
    "\n",
    "statistics"
   ]
  },
  {
   "cell_type": "markdown",
   "metadata": {},
   "source": [
    "После того, как мы нашли наши средние метрики, давайте сравним степень отклонения - размер эффекта - между исследуемыми данными и MDE для того, чтобы понять можем ли мы доверять дальнейшим полученным результатам или вероятность того, что мы совершим ошибку при интерпретации результатов будет велика.\n",
    "\n",
    "### 2.2 Lift "
   ]
  },
  {
   "cell_type": "code",
   "execution_count": 27,
   "metadata": {},
   "outputs": [
    {
     "name": "stdout",
     "output_type": "stream",
     "text": [
      "Изменение составило 107.82%\n"
     ]
    }
   ],
   "source": [
    "# расчет изменения метрики в тестовой группе относительно контрольной группы \n",
    "\n",
    "lift = (test_sample.mean() / control_sample.mean()) - 1\n",
    "print('Изменение составило {}%'.format(round(lift * 100, 2)))"
   ]
  },
  {
   "cell_type": "markdown",
   "metadata": {},
   "source": [
    "### 2.3 Effect Size "
   ]
  },
  {
   "cell_type": "code",
   "execution_count": 28,
   "metadata": {},
   "outputs": [
    {
     "name": "stdout",
     "output_type": "stream",
     "text": [
      "Размер эффекта: 2.43\n"
     ]
    }
   ],
   "source": [
    "# расчет полученного стандартизированного размера эффекта\n",
    "\n",
    "# расчет выборочных дисперсий\n",
    "control_var = control_sample.var()\n",
    "test_var    = test_sample.var()\n",
    "\n",
    "# расчет общей дисперсии\n",
    "pooled_var  = calc_pooled_var(control_var, test_var, nobs1, nobs2)\n",
    "\n",
    "# расчет effect size\n",
    "effect_size = (test_sample.mean() - control_sample.mean()) / pooled_var\n",
    "\n",
    "print('Размер эффекта: {}'.format(round(effect_size, 2)))"
   ]
  },
  {
   "cell_type": "markdown",
   "metadata": {},
   "source": [
    "Можем сказать, что полученный размер эффекта (2.43) намного превышает MDE (0.18), из чего следует, что при данных используемых параметрах, таких как уровень значимости, мощность теста и размер выборки, очень большая вероятность того, что полученные различия (или их отсутствие) будут интерпретированы верно"
   ]
  },
  {
   "cell_type": "markdown",
   "metadata": {},
   "source": [
    "На самом деле, видно невооруженным глазом, что в группе, в которой применялся новый алгоритм, **средняя доля взаимных лайков выросла почти в 2 раза (0.19 - контрольная, 0.40 - тестовая)**. Однако, все равно необходимо подтвердить статистически значимое различие между 2-мя средними с помощью статистических критериев"
   ]
  },
  {
   "cell_type": "markdown",
   "metadata": {},
   "source": [
    "### 2.4 Проверка\n",
    "\n",
    "Однако перед тем, как начать интерпретировать результаты необходимо понять, какой статистический критерий будем использовать для оценки среднего. У нас есть 2 варианта: параметрический или непараметрический. Для того, чтобы использовать параметрический тест необходимо, чтобы распределение данных соответствовало нескольким условиям:\n",
    "\n",
    "- Нормальность распределения данных\n",
    "- Отсутствие выбросов \n",
    "- Гомогеннодость дисперсий \n",
    "\n",
    "Давайте проверим наши данные"
   ]
  },
  {
   "cell_type": "markdown",
   "metadata": {},
   "source": [
    "#### 2.4.1 Гистограммы распределения "
   ]
  },
  {
   "cell_type": "code",
   "execution_count": 29,
   "metadata": {},
   "outputs": [
    {
     "data": {
      "image/png": "[encoded data removed]",
      "text/plain": [
       "<Figure size 1152x504 with 2 Axes>"
      ]
     },
     "metadata": {},
     "output_type": "display_data"
    }
   ],
   "source": [
    "figure, axes = plt.subplots(nrows = 1, ncols = 2, figsize = (16, 7))\n",
    "colors       = ['mediumpurple', 'forestgreen']\n",
    "samples      = [control_sample, test_sample]\n",
    "titles       = ['Control', 'Test']\n",
    "\n",
    "for ax, color, sample, title in zip(axes.flatten(), colors, samples, titles):\n",
    "    sns.histplot(data = sample, ax = ax, color = color, kde = True)\n",
    "    ax.set_title(title)"
   ]
  },
  {
   "cell_type": "markdown",
   "metadata": {},
   "source": [
    "Видно, что в обеих выборках распределение выглядит нормальным, однако сделаем несколько более \"профессиональных\" проверок на нормальность распределения \n",
    "\n",
    "#### 2.4.2 QQ_Plots"
   ]
  },
  {
   "cell_type": "code",
   "execution_count": 30,
   "metadata": {},
   "outputs": [
    {
     "data": {
      "image/png": "[encoded data removed]",
      "text/plain": [
       "<Figure size 1152x504 with 2 Axes>"
      ]
     },
     "metadata": {},
     "output_type": "display_data"
    }
   ],
   "source": [
    "figure, axes = plt.subplots(nrows = 1, ncols = 2, figsize = (16, 7))\n",
    "samples      = [control_sample, test_sample]\n",
    "titles       = ['Control', 'Test']\n",
    "\n",
    "for ax, sample, title in zip(axes.flatten(), samples, titles):\n",
    "    pg.qqplot(sample, ax = ax)\n",
    "    ax.set_title(title)"
   ]
  },
  {
   "cell_type": "markdown",
   "metadata": {},
   "source": [
    "В данном случае смущают отклонения в контрольной выборке, поэтому попробуем проверить еще несколькими статистическими критериями. Уровень значимости выбираем - 0.05\n",
    "\n",
    "#### 2.4.3 Критерии проверки на нормальность распределения\n",
    "\n",
    "- Тест Шапиро-Уилка (может неправильно работать на больших выборках (> 1000)\n",
    "- Тест Omnibus (Normal test)\n",
    "- Тест Харке-Бера"
   ]
  },
  {
   "cell_type": "code",
   "execution_count": 31,
   "metadata": {},
   "outputs": [
    {
     "name": "stdout",
     "output_type": "stream",
     "text": [
      "Распределение контрольной группы: ненормальное\n",
      "Распределение тестовой группы: нормальное\n"
     ]
    }
   ],
   "source": [
    "# проверка на нормальность критерием Шапиро-Уилка\n",
    "\n",
    "shapiro = {\n",
    "    'control_res' : stats.shapiro(control_sample),\n",
    "    'test_res'    : stats.shapiro(test_sample)\n",
    "}\n",
    "\n",
    "print('Распределение контрольной группы: {}'.format('ненормальное' if shapiro['control_res'][1] < 0.05 else 'нормальное'))\n",
    "print('Распределение тестовой группы: {}'.format('ненормальное' if shapiro['test_res'][1] < 0.05 else 'нормальное'))"
   ]
  },
  {
   "cell_type": "code",
   "execution_count": 32,
   "metadata": {},
   "outputs": [
    {
     "name": "stdout",
     "output_type": "stream",
     "text": [
      "Распределение контрольной группы: нормальное\n",
      "Распределение тестовой группы: нормальное\n"
     ]
    }
   ],
   "source": [
    "# проверка на нормальность критерием Харке-Бера\n",
    "\n",
    "jarque = {\n",
    "    'control_res' : stats.jarque_bera(control_sample),\n",
    "    'test_res'    : stats.jarque_bera(test_sample)\n",
    "}\n",
    "\n",
    "print('Распределение контрольной группы: {}'.format('ненормальное' if jarque['control_res'][1] < 0.05 else 'нормальное'))\n",
    "print('Распределение тестовой группы: {}'.format('ненормальное' if jarque['test_res'][1] < 0.05 else 'нормальное'))"
   ]
  },
  {
   "cell_type": "code",
   "execution_count": 33,
   "metadata": {},
   "outputs": [
    {
     "name": "stdout",
     "output_type": "stream",
     "text": [
      "Распределение контрольной группы: нормальное\n",
      "Распределение тестовой группы: нормальное\n"
     ]
    }
   ],
   "source": [
    "# проверка на нормальность Normal test\n",
    "\n",
    "normal = {\n",
    "    'control_res' : stats.normaltest(control_sample),\n",
    "    'test_res'    : stats.normaltest(test_sample)\n",
    "}\n",
    "\n",
    "print('Распределение контрольной группы: {}'.format('ненормальное' if normal['control_res'][1] < 0.05 else 'нормальное'))\n",
    "print('Распределение тестовой группы: {}'.format('ненормальное' if normal['test_res'][1] < 0.05 else 'нормальное'))"
   ]
  },
  {
   "cell_type": "markdown",
   "metadata": {},
   "source": [
    "Большинство критериев показывает, что у нас нет оснований отклонить нулевую гипотезу о том, что наши выборочные распределения - нормальные (кроме теста Шапиро-Уилка, но мы упомянули о тому, что он чувствителен к отклонениям от нормальности на больших выборках), а это значит, что мы будем использовать T-Test, так как он кажется нам наиболее оптимальным, однако все еще нужно проверить гомогенность дисперсий**\n",
    "\n",
    "Используем тест Левена, так как он более робастный к отклонениям от нормальности, нежели тест Бартлетта. Он проверяет гипотезу о том, что в наших выборках дисперсия является одинаковой."
   ]
  },
  {
   "cell_type": "code",
   "execution_count": 34,
   "metadata": {},
   "outputs": [
    {
     "data": {
      "text/plain": [
       "LeveneResult(statistic=7.374480178875595, pvalue=0.006729856182613712)"
      ]
     },
     "execution_count": 34,
     "metadata": {},
     "output_type": "execute_result"
    }
   ],
   "source": [
    "# критерий Левена для проверки на гомоскедастичность\n",
    "\n",
    "stats.levene(control_sample, test_sample)"
   ]
  },
  {
   "cell_type": "markdown",
   "metadata": {},
   "source": [
    "Тест Левена показал нам, что у нас есть все основания отклонить нулевую гипотезу о равенстве дисперсий. Поэтому для сравнения средних мы будем использовать T-Test Уэлча"
   ]
  },
  {
   "cell_type": "code",
   "execution_count": 35,
   "metadata": {},
   "outputs": [
    {
     "data": {
      "text/plain": [
       "Ttest_indResult(statistic=-38.368040416629086, pvalue=7.16678838988215e-198)"
      ]
     },
     "execution_count": 35,
     "metadata": {},
     "output_type": "execute_result"
    }
   ],
   "source": [
    "# t-критерий Уэлча для равенства 2-х средних по выборкам с разными дисперсиями\n",
    "\n",
    "stats.ttest_ind(control_sample, test_sample, equal_var = False)"
   ]
  },
  {
   "cell_type": "markdown",
   "metadata": {},
   "source": [
    "Проверка t-критерием Уэлча продемонстрировала, различия в тестовой и контрольной группе - статистически значимы, и можем с большой долей вероятности отклонить нулевую гипотезу об отсутствии различий между средними значениями и утверждать, что среднее значение доли взаимных лайков выросло почти в 2 раза."
   ]
  },
  {
   "cell_type": "markdown",
   "metadata": {},
   "source": [
    "## Выводы\n",
    "\n",
    "На основании полученных результатов можно сделать следующие выводы.\n",
    "\n",
    "Проверка статистическими критериями (Кси-квадрат Пирсона и t-критерий Уэлча) показали, что различия между контрольной и тестовой группой являются статистическими значимыми, как для общего количества взаимных лайков по продукту, так и для доли взаимных лайков на пользователя. Более того, после проверки размеров эффекта для 2-х метрик, выяснили, что полученным результатам сравнения метрик можно доверять, так как размеры эффекта больше минимальных детектируемых эффектов при используемых параметрах (уровня значимости, мощности теста и размеров выборки). \n",
    "\n",
    "В обоих случаях, количество взаимных лайков в тестовой группе выше. Это может означать то, что новый алгоритм отлично справляется со своей целью, так как его основная задача - поиск наиболее подходящих анкет (другими словами поиск взаимных лайков) и улучшил качество сервиса, основная цель которого - найти подходящую анкету. Следовательно, **можно катить новый алгоритм в production (хотя результатов маловато, конечно)**"
   ]
  },
  {
   "cell_type": "markdown",
   "metadata": {},
   "source": [
    "\n",
    "<img src = \"https://i.imgflip.com/2gr8k0.jpg\">"
   ]
  }
 ],
 "metadata": {
  "kernelspec": {
   "display_name": "Python 3 (ipykernel)",
   "language": "python",
   "name": "python3"
  },
  "language_info": {
   "codemirror_mode": {
    "name": "ipython",
    "version": 3
   },
   "file_extension": ".py",
   "mimetype": "text/x-python",
   "name": "python",
   "nbconvert_exporter": "python",
   "pygments_lexer": "ipython3",
   "version": "3.11.4"
  }
 },
 "nbformat": 4,
 "nbformat_minor": 4
}
